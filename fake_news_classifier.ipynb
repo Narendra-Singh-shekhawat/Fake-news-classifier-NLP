{
  "nbformat": 4,
  "nbformat_minor": 0,
  "metadata": {
    "colab": {
      "name": "fake news classifier",
      "provenance": [],
      "authorship_tag": "ABX9TyPv0b+rGfBQ+mXfQ25KEzqa",
      "include_colab_link": true
    },
    "kernelspec": {
      "name": "python3",
      "display_name": "Python 3"
    }
  },
  "cells": [
    {
      "cell_type": "markdown",
      "metadata": {
        "id": "view-in-github",
        "colab_type": "text"
      },
      "source": [
        "<a href=\"https://colab.research.google.com/github/Narendra-Singh-shekhawat/Fake-news-classifier-NLP/blob/master/fake_news_classifier.ipynb\" target=\"_parent\"><img src=\"https://colab.research.google.com/assets/colab-badge.svg\" alt=\"Open In Colab\"/></a>"
      ]
    },
    {
      "cell_type": "code",
      "metadata": {
        "id": "stO5O1M2jGQo",
        "colab_type": "code",
        "colab": {}
      },
      "source": [
        "import nltk\n",
        "import pandas as pd\n",
        "import numpy as np"
      ],
      "execution_count": null,
      "outputs": []
    },
    {
      "cell_type": "code",
      "metadata": {
        "id": "8UP0X4EajUlv",
        "colab_type": "code",
        "colab": {}
      },
      "source": [
        "from google.colab import drive"
      ],
      "execution_count": null,
      "outputs": []
    },
    {
      "cell_type": "code",
      "metadata": {
        "id": "HP39bkxljZR3",
        "colab_type": "code",
        "colab": {
          "base_uri": "https://localhost:8080/",
          "height": 124
        },
        "outputId": "eb1f099e-f05e-45a5-d886-66ccae2f1485"
      },
      "source": [
        "drive.mount(\"/content/drive/\")"
      ],
      "execution_count": null,
      "outputs": [
        {
          "output_type": "stream",
          "text": [
            "Go to this URL in a browser: https://accounts.google.com/o/oauth2/auth?client_id=947318989803-6bn6qk8qdgf4n4g3pfee6491hc0brc4i.apps.googleusercontent.com&redirect_uri=urn%3aietf%3awg%3aoauth%3a2.0%3aoob&scope=email%20https%3a%2f%2fwww.googleapis.com%2fauth%2fdocs.test%20https%3a%2f%2fwww.googleapis.com%2fauth%2fdrive%20https%3a%2f%2fwww.googleapis.com%2fauth%2fdrive.photos.readonly%20https%3a%2f%2fwww.googleapis.com%2fauth%2fpeopleapi.readonly&response_type=code\n",
            "\n",
            "Enter your authorization code:\n",
            "··········\n",
            "Mounted at /content/drive/\n"
          ],
          "name": "stdout"
        }
      ]
    },
    {
      "cell_type": "code",
      "metadata": {
        "id": "kKCLRjm3jci-",
        "colab_type": "code",
        "colab": {}
      },
      "source": [
        "import re\n",
        "from nltk.corpus import stopwords\n",
        "from nltk.stem.porter import PorterStemmer\n",
        "from nltk.stem import WordNetLemmatizer"
      ],
      "execution_count": null,
      "outputs": []
    },
    {
      "cell_type": "code",
      "metadata": {
        "id": "niDA95LMjo7G",
        "colab_type": "code",
        "colab": {}
      },
      "source": [
        "df=pd.read_csv(\"/content/drive/My Drive/dataset/train.csv/train.csv\")"
      ],
      "execution_count": null,
      "outputs": []
    },
    {
      "cell_type": "code",
      "metadata": {
        "id": "rQ4LqFXMj5m_",
        "colab_type": "code",
        "colab": {
          "base_uri": "https://localhost:8080/",
          "height": 198
        },
        "outputId": "1fb897be-1885-4d45-ada0-43a9e63b6699"
      },
      "source": [
        "df.head()"
      ],
      "execution_count": null,
      "outputs": [
        {
          "output_type": "execute_result",
          "data": {
            "text/html": [
              "<div>\n",
              "<style scoped>\n",
              "    .dataframe tbody tr th:only-of-type {\n",
              "        vertical-align: middle;\n",
              "    }\n",
              "\n",
              "    .dataframe tbody tr th {\n",
              "        vertical-align: top;\n",
              "    }\n",
              "\n",
              "    .dataframe thead th {\n",
              "        text-align: right;\n",
              "    }\n",
              "</style>\n",
              "<table border=\"1\" class=\"dataframe\">\n",
              "  <thead>\n",
              "    <tr style=\"text-align: right;\">\n",
              "      <th></th>\n",
              "      <th>id</th>\n",
              "      <th>title</th>\n",
              "      <th>author</th>\n",
              "      <th>text</th>\n",
              "      <th>label</th>\n",
              "    </tr>\n",
              "  </thead>\n",
              "  <tbody>\n",
              "    <tr>\n",
              "      <th>0</th>\n",
              "      <td>0</td>\n",
              "      <td>House Dem Aide: We Didn’t Even See Comey’s Let...</td>\n",
              "      <td>Darrell Lucus</td>\n",
              "      <td>House Dem Aide: We Didn’t Even See Comey’s Let...</td>\n",
              "      <td>1</td>\n",
              "    </tr>\n",
              "    <tr>\n",
              "      <th>1</th>\n",
              "      <td>1</td>\n",
              "      <td>FLYNN: Hillary Clinton, Big Woman on Campus - ...</td>\n",
              "      <td>Daniel J. Flynn</td>\n",
              "      <td>Ever get the feeling your life circles the rou...</td>\n",
              "      <td>0</td>\n",
              "    </tr>\n",
              "    <tr>\n",
              "      <th>2</th>\n",
              "      <td>2</td>\n",
              "      <td>Why the Truth Might Get You Fired</td>\n",
              "      <td>Consortiumnews.com</td>\n",
              "      <td>Why the Truth Might Get You Fired October 29, ...</td>\n",
              "      <td>1</td>\n",
              "    </tr>\n",
              "    <tr>\n",
              "      <th>3</th>\n",
              "      <td>3</td>\n",
              "      <td>15 Civilians Killed In Single US Airstrike Hav...</td>\n",
              "      <td>Jessica Purkiss</td>\n",
              "      <td>Videos 15 Civilians Killed In Single US Airstr...</td>\n",
              "      <td>1</td>\n",
              "    </tr>\n",
              "    <tr>\n",
              "      <th>4</th>\n",
              "      <td>4</td>\n",
              "      <td>Iranian woman jailed for fictional unpublished...</td>\n",
              "      <td>Howard Portnoy</td>\n",
              "      <td>Print \\nAn Iranian woman has been sentenced to...</td>\n",
              "      <td>1</td>\n",
              "    </tr>\n",
              "  </tbody>\n",
              "</table>\n",
              "</div>"
            ],
            "text/plain": [
              "   id  ... label\n",
              "0   0  ...     1\n",
              "1   1  ...     0\n",
              "2   2  ...     1\n",
              "3   3  ...     1\n",
              "4   4  ...     1\n",
              "\n",
              "[5 rows x 5 columns]"
            ]
          },
          "metadata": {
            "tags": []
          },
          "execution_count": 6
        }
      ]
    },
    {
      "cell_type": "code",
      "metadata": {
        "id": "DN5zwpQIkHw5",
        "colab_type": "code",
        "colab": {
          "base_uri": "https://localhost:8080/",
          "height": 34
        },
        "outputId": "2f11b560-ad87-45a3-cd70-983a539f2849"
      },
      "source": [
        "df[\"label\"].nunique()"
      ],
      "execution_count": null,
      "outputs": [
        {
          "output_type": "execute_result",
          "data": {
            "text/plain": [
              "2"
            ]
          },
          "metadata": {
            "tags": []
          },
          "execution_count": 7
        }
      ]
    },
    {
      "cell_type": "code",
      "metadata": {
        "id": "dXC-xcenkOZ1",
        "colab_type": "code",
        "colab": {
          "base_uri": "https://localhost:8080/",
          "height": 288
        },
        "outputId": "3f309a80-1aa8-4c3b-9ece-f1e3f9501493"
      },
      "source": [
        "df.describe()"
      ],
      "execution_count": null,
      "outputs": [
        {
          "output_type": "execute_result",
          "data": {
            "text/html": [
              "<div>\n",
              "<style scoped>\n",
              "    .dataframe tbody tr th:only-of-type {\n",
              "        vertical-align: middle;\n",
              "    }\n",
              "\n",
              "    .dataframe tbody tr th {\n",
              "        vertical-align: top;\n",
              "    }\n",
              "\n",
              "    .dataframe thead th {\n",
              "        text-align: right;\n",
              "    }\n",
              "</style>\n",
              "<table border=\"1\" class=\"dataframe\">\n",
              "  <thead>\n",
              "    <tr style=\"text-align: right;\">\n",
              "      <th></th>\n",
              "      <th>id</th>\n",
              "      <th>label</th>\n",
              "    </tr>\n",
              "  </thead>\n",
              "  <tbody>\n",
              "    <tr>\n",
              "      <th>count</th>\n",
              "      <td>20800.000000</td>\n",
              "      <td>20800.000000</td>\n",
              "    </tr>\n",
              "    <tr>\n",
              "      <th>mean</th>\n",
              "      <td>10399.500000</td>\n",
              "      <td>0.500625</td>\n",
              "    </tr>\n",
              "    <tr>\n",
              "      <th>std</th>\n",
              "      <td>6004.587135</td>\n",
              "      <td>0.500012</td>\n",
              "    </tr>\n",
              "    <tr>\n",
              "      <th>min</th>\n",
              "      <td>0.000000</td>\n",
              "      <td>0.000000</td>\n",
              "    </tr>\n",
              "    <tr>\n",
              "      <th>25%</th>\n",
              "      <td>5199.750000</td>\n",
              "      <td>0.000000</td>\n",
              "    </tr>\n",
              "    <tr>\n",
              "      <th>50%</th>\n",
              "      <td>10399.500000</td>\n",
              "      <td>1.000000</td>\n",
              "    </tr>\n",
              "    <tr>\n",
              "      <th>75%</th>\n",
              "      <td>15599.250000</td>\n",
              "      <td>1.000000</td>\n",
              "    </tr>\n",
              "    <tr>\n",
              "      <th>max</th>\n",
              "      <td>20799.000000</td>\n",
              "      <td>1.000000</td>\n",
              "    </tr>\n",
              "  </tbody>\n",
              "</table>\n",
              "</div>"
            ],
            "text/plain": [
              "                 id         label\n",
              "count  20800.000000  20800.000000\n",
              "mean   10399.500000      0.500625\n",
              "std     6004.587135      0.500012\n",
              "min        0.000000      0.000000\n",
              "25%     5199.750000      0.000000\n",
              "50%    10399.500000      1.000000\n",
              "75%    15599.250000      1.000000\n",
              "max    20799.000000      1.000000"
            ]
          },
          "metadata": {
            "tags": []
          },
          "execution_count": 8
        }
      ]
    },
    {
      "cell_type": "code",
      "metadata": {
        "id": "InrQ68OjkfbX",
        "colab_type": "code",
        "colab": {
          "base_uri": "https://localhost:8080/",
          "height": 121
        },
        "outputId": "56972831-cb69-4bbc-9910-5adbb862fb26"
      },
      "source": [
        "df.isnull().sum()"
      ],
      "execution_count": null,
      "outputs": [
        {
          "output_type": "execute_result",
          "data": {
            "text/plain": [
              "id           0\n",
              "title      558\n",
              "author    1957\n",
              "text        39\n",
              "label        0\n",
              "dtype: int64"
            ]
          },
          "metadata": {
            "tags": []
          },
          "execution_count": 9
        }
      ]
    },
    {
      "cell_type": "code",
      "metadata": {
        "id": "vJnvfoWxkkiu",
        "colab_type": "code",
        "colab": {}
      },
      "source": [
        "df=df.dropna()"
      ],
      "execution_count": null,
      "outputs": []
    },
    {
      "cell_type": "code",
      "metadata": {
        "id": "0OFuJ-mskxFc",
        "colab_type": "code",
        "colab": {
          "base_uri": "https://localhost:8080/",
          "height": 224
        },
        "outputId": "c4b68cec-d96e-41a8-edf6-3428b8be57bc"
      },
      "source": [
        "df.info()"
      ],
      "execution_count": null,
      "outputs": [
        {
          "output_type": "stream",
          "text": [
            "<class 'pandas.core.frame.DataFrame'>\n",
            "Int64Index: 18285 entries, 0 to 20799\n",
            "Data columns (total 5 columns):\n",
            " #   Column  Non-Null Count  Dtype \n",
            "---  ------  --------------  ----- \n",
            " 0   id      18285 non-null  int64 \n",
            " 1   title   18285 non-null  object\n",
            " 2   author  18285 non-null  object\n",
            " 3   text    18285 non-null  object\n",
            " 4   label   18285 non-null  int64 \n",
            "dtypes: int64(2), object(3)\n",
            "memory usage: 857.1+ KB\n"
          ],
          "name": "stdout"
        }
      ]
    },
    {
      "cell_type": "code",
      "metadata": {
        "id": "X6GywFt1k1Q8",
        "colab_type": "code",
        "colab": {
          "base_uri": "https://localhost:8080/",
          "height": 121
        },
        "outputId": "20c5da64-2466-456b-ad32-49b583a54e47"
      },
      "source": [
        "df.isnull().sum()"
      ],
      "execution_count": null,
      "outputs": [
        {
          "output_type": "execute_result",
          "data": {
            "text/plain": [
              "id        0\n",
              "title     0\n",
              "author    0\n",
              "text      0\n",
              "label     0\n",
              "dtype: int64"
            ]
          },
          "metadata": {
            "tags": []
          },
          "execution_count": 12
        }
      ]
    },
    {
      "cell_type": "code",
      "metadata": {
        "id": "MYxPgcmz3IVj",
        "colab_type": "code",
        "colab": {}
      },
      "source": [
        "df1=df.copy()"
      ],
      "execution_count": null,
      "outputs": []
    },
    {
      "cell_type": "code",
      "metadata": {
        "id": "ILpsy1513Snk",
        "colab_type": "code",
        "colab": {}
      },
      "source": [
        "df1.reset_index(inplace=True)"
      ],
      "execution_count": null,
      "outputs": []
    },
    {
      "cell_type": "code",
      "metadata": {
        "id": "BkvOK6Czk9Jl",
        "colab_type": "code",
        "colab": {}
      },
      "source": [
        "ps=PorterStemmer()\n",
        "wordnet=WordNetLemmatizer()\n"
      ],
      "execution_count": null,
      "outputs": []
    },
    {
      "cell_type": "code",
      "metadata": {
        "id": "53J6nTN2mGY8",
        "colab_type": "code",
        "colab": {
          "base_uri": "https://localhost:8080/",
          "height": 104
        },
        "outputId": "ff755f3c-7ddf-4dad-e4e0-dcccd013eae0"
      },
      "source": [
        "nltk.download('stopwords')\n",
        "nltk.download('wordnet')"
      ],
      "execution_count": null,
      "outputs": [
        {
          "output_type": "stream",
          "text": [
            "[nltk_data] Downloading package stopwords to /root/nltk_data...\n",
            "[nltk_data]   Unzipping corpora/stopwords.zip.\n",
            "[nltk_data] Downloading package wordnet to /root/nltk_data...\n",
            "[nltk_data]   Unzipping corpora/wordnet.zip.\n"
          ],
          "name": "stdout"
        },
        {
          "output_type": "execute_result",
          "data": {
            "text/plain": [
              "True"
            ]
          },
          "metadata": {
            "tags": []
          },
          "execution_count": 16
        }
      ]
    },
    {
      "cell_type": "code",
      "metadata": {
        "id": "9LZ2Nv-5m3S7",
        "colab_type": "code",
        "colab": {
          "base_uri": "https://localhost:8080/",
          "height": 34
        },
        "outputId": "b3c67f32-3d1a-48e7-afaa-08e0fb3b7ae9"
      },
      "source": [
        "len(df1[\"text\"])"
      ],
      "execution_count": null,
      "outputs": [
        {
          "output_type": "execute_result",
          "data": {
            "text/plain": [
              "18285"
            ]
          },
          "metadata": {
            "tags": []
          },
          "execution_count": 17
        }
      ]
    },
    {
      "cell_type": "code",
      "metadata": {
        "id": "Go8q0db0nBHX",
        "colab_type": "code",
        "colab": {
          "base_uri": "https://localhost:8080/",
          "height": 207
        },
        "outputId": "8ee15abe-51b2-467e-e1af-2ca1a312a312"
      },
      "source": [
        "df1[\"text\"][0:10]"
      ],
      "execution_count": null,
      "outputs": [
        {
          "output_type": "execute_result",
          "data": {
            "text/plain": [
              "0    House Dem Aide: We Didn’t Even See Comey’s Let...\n",
              "1    Ever get the feeling your life circles the rou...\n",
              "2    Why the Truth Might Get You Fired October 29, ...\n",
              "3    Videos 15 Civilians Killed In Single US Airstr...\n",
              "4    Print \\nAn Iranian woman has been sentenced to...\n",
              "5    In these trying times, Jackie Mason is the Voi...\n",
              "6    PARIS  —   France chose an idealistic, traditi...\n",
              "7    A week before Michael T. Flynn resigned as nat...\n",
              "8    Organizing for Action, the activist group that...\n",
              "9    The BBC produced spoof on the “Real Housewives...\n",
              "Name: text, dtype: object"
            ]
          },
          "metadata": {
            "tags": []
          },
          "execution_count": 18
        }
      ]
    },
    {
      "cell_type": "code",
      "metadata": {
        "id": "o6DKxFMfndEt",
        "colab_type": "code",
        "colab": {}
      },
      "source": [
        "corpus=[]\n",
        "for i in range(0,len(df1)):\n",
        "  news=re.sub(\"[^a-zA-Z]\",\" \",df1[\"title\"][i])\n",
        "  news=news.lower()\n",
        "  news=news.split()\n",
        "  news=[wordnet.lemmatize(word) for word in news if not word in set(stopwords.words(\"english\"))]\n",
        "  news=\" \".join(news)\n",
        "  corpus.append(news)"
      ],
      "execution_count": null,
      "outputs": []
    },
    {
      "cell_type": "code",
      "metadata": {
        "id": "QKiFOhh7KoFf",
        "colab_type": "code",
        "colab": {
          "base_uri": "https://localhost:8080/",
          "height": 104
        },
        "outputId": "f74a6d75-ed24-4ee9-93e7-8c10d7f55d76"
      },
      "source": [
        "corpus[0:5]"
      ],
      "execution_count": null,
      "outputs": [
        {
          "output_type": "execute_result",
          "data": {
            "text/plain": [
              "['house dem aide even see comey letter jason chaffetz tweeted',\n",
              " 'flynn hillary clinton big woman campus breitbart',\n",
              " 'truth might get fired',\n",
              " 'civilian killed single u airstrike identified',\n",
              " 'iranian woman jailed fictional unpublished story woman stoned death adultery']"
            ]
          },
          "metadata": {
            "tags": []
          },
          "execution_count": 20
        }
      ]
    },
    {
      "cell_type": "code",
      "metadata": {
        "id": "JuZfJYsi7Va0",
        "colab_type": "code",
        "colab": {}
      },
      "source": [
        "from sklearn.feature_extraction.text import CountVectorizer,TfidfVectorizer"
      ],
      "execution_count": null,
      "outputs": []
    },
    {
      "cell_type": "code",
      "metadata": {
        "id": "JSKKOySkATry",
        "colab_type": "code",
        "colab": {}
      },
      "source": [
        "from sklearn.model_selection import GridSearchCV"
      ],
      "execution_count": null,
      "outputs": []
    },
    {
      "cell_type": "code",
      "metadata": {
        "id": "MlHdE_o98HB7",
        "colab_type": "code",
        "colab": {}
      },
      "source": [
        "\n",
        "\n",
        "cv=CountVectorizer(max_features=5000,ngram_range=(1,3))\n",
        "X=cv.fit_transform(corpus).toarray()\n"
      ],
      "execution_count": null,
      "outputs": []
    },
    {
      "cell_type": "code",
      "metadata": {
        "id": "WS9DDVrV9xj5",
        "colab_type": "code",
        "colab": {}
      },
      "source": [
        "y=df1[\"label\"]"
      ],
      "execution_count": null,
      "outputs": []
    },
    {
      "cell_type": "code",
      "metadata": {
        "id": "dugO8Sz4AMlF",
        "colab_type": "code",
        "colab": {
          "base_uri": "https://localhost:8080/",
          "height": 363
        },
        "outputId": "f9319479-58ec-4b1a-9249-c26085229914"
      },
      "source": [
        "cv.get_feature_names()[:20]"
      ],
      "execution_count": null,
      "outputs": [
        {
          "output_type": "execute_result",
          "data": {
            "text/plain": [
              "['abandon',\n",
              " 'abandoned',\n",
              " 'abc',\n",
              " 'abc news',\n",
              " 'abe',\n",
              " 'abedin',\n",
              " 'able',\n",
              " 'abortion',\n",
              " 'abroad',\n",
              " 'absolutely',\n",
              " 'absurd',\n",
              " 'abuse',\n",
              " 'abuse new',\n",
              " 'abuse new york',\n",
              " 'academy',\n",
              " 'accept',\n",
              " 'accepting',\n",
              " 'access',\n",
              " 'access pipeline',\n",
              " 'access pipeline protest']"
            ]
          },
          "metadata": {
            "tags": []
          },
          "execution_count": 56
        }
      ]
    },
    {
      "cell_type": "code",
      "metadata": {
        "id": "agLOjpVZNfoB",
        "colab_type": "code",
        "colab": {
          "base_uri": "https://localhost:8080/",
          "height": 311
        },
        "outputId": "59e6b5f3-7029-4d54-d00d-91fe53008d0b"
      },
      "source": [
        "cv.get_params()"
      ],
      "execution_count": null,
      "outputs": [
        {
          "output_type": "execute_result",
          "data": {
            "text/plain": [
              "{'analyzer': 'word',\n",
              " 'binary': False,\n",
              " 'decode_error': 'strict',\n",
              " 'dtype': numpy.int64,\n",
              " 'encoding': 'utf-8',\n",
              " 'input': 'content',\n",
              " 'lowercase': True,\n",
              " 'max_df': 1.0,\n",
              " 'max_features': 5000,\n",
              " 'min_df': 1,\n",
              " 'ngram_range': (1, 3),\n",
              " 'preprocessor': None,\n",
              " 'stop_words': None,\n",
              " 'strip_accents': None,\n",
              " 'token_pattern': '(?u)\\\\b\\\\w\\\\w+\\\\b',\n",
              " 'tokenizer': None,\n",
              " 'vocabulary': None}"
            ]
          },
          "metadata": {
            "tags": []
          },
          "execution_count": 58
        }
      ]
    },
    {
      "cell_type": "code",
      "metadata": {
        "id": "JWV_XUNpNmit",
        "colab_type": "code",
        "colab": {}
      },
      "source": [
        "df_new=pd.DataFrame(X,columns=cv.get_feature_names())"
      ],
      "execution_count": null,
      "outputs": []
    },
    {
      "cell_type": "code",
      "metadata": {
        "id": "PjeGav6lPCKl",
        "colab_type": "code",
        "colab": {}
      },
      "source": [
        "from sklearn.naive_bayes import MultinomialNB\n",
        "from sklearn.linear_model import PassiveAggressiveClassifier"
      ],
      "execution_count": null,
      "outputs": []
    },
    {
      "cell_type": "code",
      "metadata": {
        "id": "RmRRrpVZRToG",
        "colab_type": "code",
        "colab": {
          "base_uri": "https://localhost:8080/",
          "height": 331
        },
        "outputId": "d61694a9-cc12-41b1-f7e2-1d0fd4d33a5f"
      },
      "source": [
        "MN=MultinomialNB()\n",
        "par_MN={\"alpha\":np.arange(0,1,0.1)}\n",
        "GS_MN=GridSearchCV(MN,par_RF,cv=5,scoring=\"roc_auc\")\n",
        "GS_MN.fit(X,y)"
      ],
      "execution_count": null,
      "outputs": [
        {
          "output_type": "stream",
          "text": [
            "/usr/local/lib/python3.6/dist-packages/sklearn/naive_bayes.py:507: UserWarning: alpha too small will result in numeric errors, setting alpha = 1.0e-10\n",
            "  'setting alpha = %.1e' % _ALPHA_MIN)\n",
            "/usr/local/lib/python3.6/dist-packages/sklearn/naive_bayes.py:507: UserWarning: alpha too small will result in numeric errors, setting alpha = 1.0e-10\n",
            "  'setting alpha = %.1e' % _ALPHA_MIN)\n",
            "/usr/local/lib/python3.6/dist-packages/sklearn/naive_bayes.py:507: UserWarning: alpha too small will result in numeric errors, setting alpha = 1.0e-10\n",
            "  'setting alpha = %.1e' % _ALPHA_MIN)\n",
            "/usr/local/lib/python3.6/dist-packages/sklearn/naive_bayes.py:507: UserWarning: alpha too small will result in numeric errors, setting alpha = 1.0e-10\n",
            "  'setting alpha = %.1e' % _ALPHA_MIN)\n",
            "/usr/local/lib/python3.6/dist-packages/sklearn/naive_bayes.py:507: UserWarning: alpha too small will result in numeric errors, setting alpha = 1.0e-10\n",
            "  'setting alpha = %.1e' % _ALPHA_MIN)\n"
          ],
          "name": "stderr"
        },
        {
          "output_type": "execute_result",
          "data": {
            "text/plain": [
              "GridSearchCV(cv=5, error_score=nan,\n",
              "             estimator=MultinomialNB(alpha=1.0, class_prior=None,\n",
              "                                     fit_prior=True),\n",
              "             iid='deprecated', n_jobs=None,\n",
              "             param_grid={'alpha': array([0. , 0.1, 0.2, 0.3, 0.4, 0.5, 0.6, 0.7, 0.8, 0.9])},\n",
              "             pre_dispatch='2*n_jobs', refit=True, return_train_score=False,\n",
              "             scoring='roc_auc', verbose=0)"
            ]
          },
          "metadata": {
            "tags": []
          },
          "execution_count": 67
        }
      ]
    },
    {
      "cell_type": "code",
      "metadata": {
        "id": "Qz7kcCHURvGN",
        "colab_type": "code",
        "colab": {
          "base_uri": "https://localhost:8080/",
          "height": 34
        },
        "outputId": "b19ed78b-0564-402b-8c45-10dec7e85313"
      },
      "source": [
        "GS_MN.best_params_"
      ],
      "execution_count": null,
      "outputs": [
        {
          "output_type": "execute_result",
          "data": {
            "text/plain": [
              "{'alpha': 0.2}"
            ]
          },
          "metadata": {
            "tags": []
          },
          "execution_count": 68
        }
      ]
    },
    {
      "cell_type": "code",
      "metadata": {
        "id": "sDkjxBSuZusW",
        "colab_type": "code",
        "colab": {}
      },
      "source": [
        "from sklearn.model_selection import GridSearchCV\n",
        "from sklearn.neighbors import KNeighborsClassifier\n",
        "from sklearn.tree import DecisionTreeClassifier\n",
        "from sklearn.linear_model import LogisticRegression\n",
        "from sklearn.ensemble import RandomForestClassifier\n",
        "from sklearn.naive_bayes import MultinomialNB\n",
        "from sklearn import model_selection\n",
        "from sklearn.model_selection import KFold, cross_val_score\n",
        "import matplotlib.pyplot as plt\n",
        "from sklearn.ensemble import BaggingClassifier\n",
        "from sklearn.ensemble import AdaBoostClassifier\n",
        "from sklearn import metrics\n",
        "import seaborn as sns\n",
        "from sklearn.metrics import precision_score, recall_score, f1_score, roc_auc_score, accuracy_score, classification_report"
      ],
      "execution_count": null,
      "outputs": []
    },
    {
      "cell_type": "code",
      "metadata": {
        "id": "VvD25hp1S1HY",
        "colab_type": "code",
        "colab": {}
      },
      "source": [
        "MN=MultinomialNB(alpha=0.2)\n",
        "PA=PassiveAggressiveClassifier()\n",
        "MN_bag=BaggingClassifier(base_estimator=MN,n_estimators=10,random_state=0)\n",
        "MN_boost=AdaBoostClassifier(base_estimator=MN,n_estimators=15,random_state=0)"
      ],
      "execution_count": null,
      "outputs": []
    },
    {
      "cell_type": "code",
      "metadata": {
        "id": "pMH43E1WavEC",
        "colab_type": "code",
        "colab": {}
      },
      "source": [
        "models=[]\n",
        "models.append((\"multinomialNB\",MN))\n",
        "models.append((\"PassiveAgressiveClassifier\",PA))\n",
        "models.append((\"baggedMB\",MN_bag))\n",
        "models.append((\"boostMB\",MN_boost))"
      ],
      "execution_count": null,
      "outputs": []
    },
    {
      "cell_type": "code",
      "metadata": {
        "id": "VJiJqRKqbQko",
        "colab_type": "code",
        "colab": {
          "base_uri": "https://localhost:8080/",
          "height": 86
        },
        "outputId": "d4bfc0d3-1ed2-4bd4-ac41-53512af45c13"
      },
      "source": [
        "results = []\n",
        "names = []\n",
        "\n",
        "for name, model in models:\n",
        "    kfold = model_selection.KFold(shuffle = True, n_splits = 3, random_state = 0)\n",
        "    cv_results = model_selection.cross_val_score(model,X,y,cv = kfold, scoring='roc_auc')\n",
        "    results.append(cv_results)\n",
        "    names.append(name)\n",
        "    print('NAME: {} ----- MEAN: {} ----- VAR: {} '.format(name,np.mean(cv_results),np.var(cv_results,ddof=1)))"
      ],
      "execution_count": null,
      "outputs": [
        {
          "output_type": "stream",
          "text": [
            "NAME: multinomialNB ----- MEAN: 0.9651920754807991 ----- VAR: 7.548981941315622e-06 \n",
            "NAME: PassiveAgressiveClassifier ----- MEAN: 0.9695999098823571 ----- VAR: 2.1301237332432397e-06 \n",
            "NAME: baggedMB ----- MEAN: 0.9656491979623155 ----- VAR: 1.0615128431248027e-05 \n",
            "NAME: boostMB ----- MEAN: 0.9725886821233131 ----- VAR: 4.843405625548455e-06 \n"
          ],
          "name": "stdout"
        }
      ]
    },
    {
      "cell_type": "code",
      "metadata": {
        "id": "xa-DUfSuVxuT",
        "colab_type": "code",
        "colab": {
          "base_uri": "https://localhost:8080/",
          "height": 1000
        },
        "outputId": "be71c167-41de-496c-dbdd-79f792689829"
      },
      "source": [
        "from sklearn.model_selection import train_test_split\n",
        "x_train, x_test, y_train, y_test = train_test_split(X,y, test_size=0.3, random_state=0)\n",
        "for name,model in models:\n",
        "  print(name)\n",
        "  model.fit(x_train,y_train)\n",
        "  y_predict_LR=model.predict(x_test)\n",
        "  accuracy_test =model.score(x_test,y_test)\n",
        "\n",
        "  print(\"Here is our mean accuracy on the test set:\\n {0:.3f}\"\\\n",
        "        .format(accuracy_test))\n",
        "  accuracy_train =model.score(x_train,y_train)\n",
        "\n",
        "  print(\"Here is our mean accuracy on the train set:\\n {0:.3f}\"\\\n",
        "        .format(accuracy_train))\n",
        "  confusion = metrics.confusion_matrix( y_predict_LR, y_test )\n",
        "  sns.heatmap(confusion, annot=True, fmt='d', cbar=False)\n",
        "  plt.xlabel('Predicted Values')\n",
        "  plt.ylabel('Actual Values')\n",
        "  plt.title('Actual vs. Predicted Confusion Matrix')\n",
        "  plt.show()\n",
        "  print()\n",
        "  print('CLASSIFICATION REPORT',classification_report(y_test, y_predict_LR))\n",
        "  print('--------------------------------------------------------')\n",
        "  print()"
      ],
      "execution_count": null,
      "outputs": [
        {
          "output_type": "stream",
          "text": [
            "multinomialNB\n",
            "Here is our mean accuracy on the test set:\n",
            " 0.898\n",
            "Here is our mean accuracy on the train set:\n",
            " 0.929\n"
          ],
          "name": "stdout"
        },
        {
          "output_type": "display_data",
          "data": {
            "image/png": "[encoded data removed]",
            "text/plain": [
              "<Figure size 432x288 with 1 Axes>"
            ]
          },
          "metadata": {
            "tags": [],
            "needs_background": "light"
          }
        },
        {
          "output_type": "stream",
          "text": [
            "\n",
            "CLASSIFICATION REPORT               precision    recall  f1-score   support\n",
            "\n",
            "           0       0.91      0.90      0.91      3084\n",
            "           1       0.88      0.89      0.88      2402\n",
            "\n",
            "    accuracy                           0.90      5486\n",
            "   macro avg       0.90      0.90      0.90      5486\n",
            "weighted avg       0.90      0.90      0.90      5486\n",
            "\n",
            "--------------------------------------------------------\n",
            "\n",
            "PassiveAgressiveClassifier\n",
            "Here is our mean accuracy on the test set:\n",
            " 0.913\n",
            "Here is our mean accuracy on the train set:\n",
            " 1.000\n"
          ],
          "name": "stdout"
        },
        {
          "output_type": "display_data",
          "data": {
            "image/png": "[encoded data removed]",
            "text/plain": [
              "<Figure size 432x288 with 1 Axes>"
            ]
          },
          "metadata": {
            "tags": [],
            "needs_background": "light"
          }
        },
        {
          "output_type": "stream",
          "text": [
            "\n",
            "CLASSIFICATION REPORT               precision    recall  f1-score   support\n",
            "\n",
            "           0       0.93      0.92      0.92      3084\n",
            "           1       0.90      0.91      0.90      2402\n",
            "\n",
            "    accuracy                           0.91      5486\n",
            "   macro avg       0.91      0.91      0.91      5486\n",
            "weighted avg       0.91      0.91      0.91      5486\n",
            "\n",
            "--------------------------------------------------------\n",
            "\n",
            "baggedMB\n",
            "Here is our mean accuracy on the test set:\n",
            " 0.898\n",
            "Here is our mean accuracy on the train set:\n",
            " 0.928\n"
          ],
          "name": "stdout"
        },
        {
          "output_type": "display_data",
          "data": {
            "image/png": "[encoded data removed]",
            "text/plain": [
              "<Figure size 432x288 with 1 Axes>"
            ]
          },
          "metadata": {
            "tags": [],
            "needs_background": "light"
          }
        },
        {
          "output_type": "stream",
          "text": [
            "\n",
            "CLASSIFICATION REPORT               precision    recall  f1-score   support\n",
            "\n",
            "           0       0.91      0.91      0.91      3084\n",
            "           1       0.89      0.88      0.88      2402\n",
            "\n",
            "    accuracy                           0.90      5486\n",
            "   macro avg       0.90      0.90      0.90      5486\n",
            "weighted avg       0.90      0.90      0.90      5486\n",
            "\n",
            "--------------------------------------------------------\n",
            "\n",
            "boostMB\n",
            "Here is our mean accuracy on the test set:\n",
            " 0.908\n",
            "Here is our mean accuracy on the train set:\n",
            " 0.911\n"
          ],
          "name": "stdout"
        },
        {
          "output_type": "display_data",
          "data": {
            "image/png": "[encoded data removed]",
            "text/plain": [
              "<Figure size 432x288 with 1 Axes>"
            ]
          },
          "metadata": {
            "tags": [],
            "needs_background": "light"
          }
        },
        {
          "output_type": "stream",
          "text": [
            "\n",
            "CLASSIFICATION REPORT               precision    recall  f1-score   support\n",
            "\n",
            "           0       0.99      0.84      0.91      3084\n",
            "           1       0.83      0.99      0.90      2402\n",
            "\n",
            "    accuracy                           0.91      5486\n",
            "   macro avg       0.91      0.92      0.91      5486\n",
            "weighted avg       0.92      0.91      0.91      5486\n",
            "\n",
            "--------------------------------------------------------\n",
            "\n"
          ],
          "name": "stdout"
        }
      ]
    },
    {
      "cell_type": "code",
      "metadata": {
        "id": "MJpucBlNdgmL",
        "colab_type": "code",
        "colab": {}
      },
      "source": [
        "voc_size=5000"
      ],
      "execution_count": null,
      "outputs": []
    },
    {
      "cell_type": "code",
      "metadata": {
        "id": "M7L2YAu6LI4L",
        "colab_type": "code",
        "colab": {}
      },
      "source": [
        "from tensorflow.keras.preprocessing.text import one_hot"
      ],
      "execution_count": null,
      "outputs": []
    },
    {
      "cell_type": "code",
      "metadata": {
        "id": "6TUF3whuK8X7",
        "colab_type": "code",
        "colab": {}
      },
      "source": [
        "one_hot_rep=[one_hot(i,voc_size) for i in corpus]\n"
      ],
      "execution_count": 43,
      "outputs": []
    },
    {
      "cell_type": "code",
      "metadata": {
        "id": "L6IJzX0-LDe4",
        "colab_type": "code",
        "colab": {}
      },
      "source": [
        "from tensorflow.keras.layers import Embedding\n",
        "from tensorflow.keras.preprocessing.sequence import pad_sequences\n",
        "from tensorflow.keras.models import Sequential\n",
        "from tensorflow.keras.layers import LSTM\n",
        "from tensorflow.keras.layers import Dense"
      ],
      "execution_count": null,
      "outputs": []
    },
    {
      "cell_type": "code",
      "metadata": {
        "id": "nRkHDTn4LT9k",
        "colab_type": "code",
        "colab": {}
      },
      "source": [
        "import numpy as np"
      ],
      "execution_count": null,
      "outputs": []
    },
    {
      "cell_type": "code",
      "metadata": {
        "id": "S3yGqA3jLZEm",
        "colab_type": "code",
        "colab": {
          "base_uri": "https://localhost:8080/",
          "height": 138
        },
        "outputId": "c4ba6b39-b49c-4697-bd57-4bb2ea477545"
      },
      "source": [
        "embedded_corpus=pad_sequences(one_hot_rep,padding='pre',maxlen=20)\n",
        "print(embedded_corpus)"
      ],
      "execution_count": null,
      "outputs": [
        {
          "output_type": "stream",
          "text": [
            "[[  0   0   0 ... 849 243 321]\n",
            " [  0   0   0 ... 496 881 729]\n",
            " [  0   0   0 ...  97 846 981]\n",
            " ...\n",
            " [  0   0   0 ... 222 200 643]\n",
            " [  0   0   0 ... 250 483 621]\n",
            " [  0   0   0 ... 185 888 321]]\n"
          ],
          "name": "stdout"
        }
      ]
    },
    {
      "cell_type": "code",
      "metadata": {
        "id": "nI-oDPbIMBms",
        "colab_type": "code",
        "colab": {
          "base_uri": "https://localhost:8080/",
          "height": 276
        },
        "outputId": "0cd90559-5d89-4cda-edee-e37f041f68a8"
      },
      "source": [
        "model=Sequential()\n",
        "model.add(Embedding(voc_size,40,input_length=20))\n",
        "model.add(LSTM(100))\n",
        "model.add(Dense(1,activation=\"sigmoid\"))\n",
        "model.compile(optimizer=\"adam\" ,loss=\"binary_crossentropy\",metrics=[\"accuracy\"])\n",
        "print(model.summary())"
      ],
      "execution_count": null,
      "outputs": [
        {
          "output_type": "stream",
          "text": [
            "Model: \"sequential_3\"\n",
            "_________________________________________________________________\n",
            "Layer (type)                 Output Shape              Param #   \n",
            "=================================================================\n",
            "embedding_3 (Embedding)      (None, 20, 40)            200000    \n",
            "_________________________________________________________________\n",
            "lstm_1 (LSTM)                (None, 100)               56400     \n",
            "_________________________________________________________________\n",
            "dense (Dense)                (None, 1)                 101       \n",
            "=================================================================\n",
            "Total params: 256,501\n",
            "Trainable params: 256,501\n",
            "Non-trainable params: 0\n",
            "_________________________________________________________________\n",
            "None\n"
          ],
          "name": "stdout"
        }
      ]
    },
    {
      "cell_type": "code",
      "metadata": {
        "id": "AWP79NuDMSVh",
        "colab_type": "code",
        "colab": {}
      },
      "source": [
        "import numpy as np"
      ],
      "execution_count": null,
      "outputs": []
    },
    {
      "cell_type": "code",
      "metadata": {
        "id": "hZjYPmgTQ-IQ",
        "colab_type": "code",
        "colab": {}
      },
      "source": [
        "X=np.array(embedded_corpus)\n",
        "y=np.array(df1[\"label\"])"
      ],
      "execution_count": null,
      "outputs": []
    },
    {
      "cell_type": "code",
      "metadata": {
        "id": "l8X0nMPKRPAj",
        "colab_type": "code",
        "colab": {
          "base_uri": "https://localhost:8080/",
          "height": 34
        },
        "outputId": "898dece0-3fca-4eb9-fdf4-e7620a421e71"
      },
      "source": [
        "X.shape,y.shape"
      ],
      "execution_count": null,
      "outputs": [
        {
          "output_type": "execute_result",
          "data": {
            "text/plain": [
              "((18285, 20), (18285,))"
            ]
          },
          "metadata": {
            "tags": []
          },
          "execution_count": 39
        }
      ]
    },
    {
      "cell_type": "code",
      "metadata": {
        "id": "zCh1Ry6KRS4l",
        "colab_type": "code",
        "colab": {}
      },
      "source": [
        "from sklearn.model_selection import train_test_split\n",
        "x_train, x_test, y_train, y_test = train_test_split(X,y, test_size=0.33, random_state=0)"
      ],
      "execution_count": null,
      "outputs": []
    },
    {
      "cell_type": "code",
      "metadata": {
        "id": "iNyCTqQlRnR4",
        "colab_type": "code",
        "colab": {
          "base_uri": "https://localhost:8080/",
          "height": 380
        },
        "outputId": "114a2bec-3a84-42ff-c447-f7e8e428bb95"
      },
      "source": [
        "model.fit(x_train,y_train,batch_size=64,epochs=10,validation_data=(x_test,y_test))"
      ],
      "execution_count": null,
      "outputs": [
        {
          "output_type": "stream",
          "text": [
            "Epoch 1/10\n",
            "192/192 [==============================] - 6s 34ms/step - loss: 0.3541 - accuracy: 0.8331 - val_loss: 0.2428 - val_accuracy: 0.8946\n",
            "Epoch 2/10\n",
            "192/192 [==============================] - 6s 31ms/step - loss: 0.1951 - accuracy: 0.9202 - val_loss: 0.2259 - val_accuracy: 0.9001\n",
            "Epoch 3/10\n",
            "192/192 [==============================] - 6s 31ms/step - loss: 0.1751 - accuracy: 0.9277 - val_loss: 0.2202 - val_accuracy: 0.9085\n",
            "Epoch 4/10\n",
            "192/192 [==============================] - 6s 31ms/step - loss: 0.1586 - accuracy: 0.9369 - val_loss: 0.2378 - val_accuracy: 0.9070\n",
            "Epoch 5/10\n",
            "192/192 [==============================] - 6s 31ms/step - loss: 0.1455 - accuracy: 0.9427 - val_loss: 0.2291 - val_accuracy: 0.9046\n",
            "Epoch 6/10\n",
            "192/192 [==============================] - 6s 31ms/step - loss: 0.1279 - accuracy: 0.9513 - val_loss: 0.2547 - val_accuracy: 0.9054\n",
            "Epoch 7/10\n",
            "192/192 [==============================] - 6s 31ms/step - loss: 0.1153 - accuracy: 0.9546 - val_loss: 0.2516 - val_accuracy: 0.9014\n",
            "Epoch 8/10\n",
            "192/192 [==============================] - 6s 31ms/step - loss: 0.1005 - accuracy: 0.9623 - val_loss: 0.2775 - val_accuracy: 0.9070\n",
            "Epoch 9/10\n",
            "192/192 [==============================] - 6s 31ms/step - loss: 0.0897 - accuracy: 0.9676 - val_loss: 0.2913 - val_accuracy: 0.9014\n",
            "Epoch 10/10\n",
            "192/192 [==============================] - 6s 31ms/step - loss: 0.0765 - accuracy: 0.9725 - val_loss: 0.3417 - val_accuracy: 0.8983\n"
          ],
          "name": "stdout"
        },
        {
          "output_type": "execute_result",
          "data": {
            "text/plain": [
              "<tensorflow.python.keras.callbacks.History at 0x7f6d60ebada0>"
            ]
          },
          "metadata": {
            "tags": []
          },
          "execution_count": 42
        }
      ]
    },
    {
      "cell_type": "code",
      "metadata": {
        "id": "mMDLyQ00Sgs3",
        "colab_type": "code",
        "colab": {}
      },
      "source": [
        ""
      ],
      "execution_count": null,
      "outputs": []
    },
    {
      "cell_type": "markdown",
      "metadata": {
        "id": "bDfXvJIJtbjY",
        "colab_type": "text"
      },
      "source": [
        "# New Section"
      ]
    }
  ]
}